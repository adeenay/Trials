{
 "cells": [
  {
   "cell_type": "code",
   "execution_count": 1,
   "metadata": {},
   "outputs": [],
   "source": [
    "import numpy as np"
   ]
  },
  {
   "cell_type": "code",
   "execution_count": 2,
   "metadata": {},
   "outputs": [
    {
     "data": {
      "text/plain": [
       "array([[  0.,   1.,   2.,   3.,   4.,   5.],\n",
       "       [  6.,   7.,   8.,   9.,  10.,  11.],\n",
       "       [ 12.,  13.,  14.,  15.,  16.,  17.],\n",
       "       [ 18.,  19.,  20.,  21.,  22.,  23.],\n",
       "       [ 24.,  25.,  26.,  27.,  28.,  29.],\n",
       "       [ 30.,  31.,  32.,  33.,  34.,  35.]])"
      ]
     },
     "execution_count": 2,
     "metadata": {},
     "output_type": "execute_result"
    }
   ],
   "source": [
    "a = np.reshape(np.linspace(0,35,36),(6,6))\n",
    "a"
   ]
  },
  {
   "cell_type": "code",
   "execution_count": 22,
   "metadata": {},
   "outputs": [
    {
     "data": {
      "text/plain": [
       "array([[  0.,   1.,   2.,   3.,   4.,   5.,   6.,   7.,   8.,   9.,  10.,\n",
       "         11.,  12.,  13.,  14.,  15.],\n",
       "       [ 16.,  17.,  18.,  19.,  20.,  21.,  22.,  23.,  24.,  25.,  26.,\n",
       "         27.,  28.,  29.,  30.,  31.],\n",
       "       [ 32.,  33.,  34.,  35.,  36.,  37.,  38.,  39.,  40.,  41.,  42.,\n",
       "         43.,  44.,  45.,  46.,  47.],\n",
       "       [ 48.,  49.,  50.,  51.,  52.,  53.,  54.,  55.,  56.,  57.,  58.,\n",
       "         59.,  60.,  61.,  62.,  63.]])"
      ]
     },
     "execution_count": 22,
     "metadata": {},
     "output_type": "execute_result"
    }
   ],
   "source": [
    "b = np.reshape(np.linspace(0,63,64),(4,16))\n",
    "b"
   ]
  },
  {
   "cell_type": "code",
   "execution_count": 24,
   "metadata": {},
   "outputs": [],
   "source": [
    "def morton(matrix):\n",
    "    A = []\n",
    "    nx = len(matrix)\n",
    "    ny = len(matrix[0])\n",
    "    for i in range(0,nx,2):\n",
    "        for j in range(0,ny,2):\n",
    "            A.append(matrix[i,j])\n",
    "            A.append(matrix[i,j+1])\n",
    "            A.append(matrix[i+1,j])\n",
    "            A.append(matrix[i+1,j+1])\n",
    "    return A"
   ]
  },
  {
   "cell_type": "code",
   "execution_count": 25,
   "metadata": {},
   "outputs": [
    {
     "data": {
      "text/plain": [
       "[0.0,\n",
       " 1.0,\n",
       " 6.0,\n",
       " 7.0,\n",
       " 2.0,\n",
       " 3.0,\n",
       " 8.0,\n",
       " 9.0,\n",
       " 4.0,\n",
       " 5.0,\n",
       " 10.0,\n",
       " 11.0,\n",
       " 12.0,\n",
       " 13.0,\n",
       " 18.0,\n",
       " 19.0,\n",
       " 14.0,\n",
       " 15.0,\n",
       " 20.0,\n",
       " 21.0,\n",
       " 16.0,\n",
       " 17.0,\n",
       " 22.0,\n",
       " 23.0,\n",
       " 24.0,\n",
       " 25.0,\n",
       " 30.0,\n",
       " 31.0,\n",
       " 26.0,\n",
       " 27.0,\n",
       " 32.0,\n",
       " 33.0,\n",
       " 28.0,\n",
       " 29.0,\n",
       " 34.0,\n",
       " 35.0]"
      ]
     },
     "execution_count": 25,
     "metadata": {},
     "output_type": "execute_result"
    }
   ],
   "source": [
    "A = morton(a)\n",
    "A"
   ]
  },
  {
   "cell_type": "code",
   "execution_count": 26,
   "metadata": {},
   "outputs": [
    {
     "data": {
      "text/plain": [
       "[0.0,\n",
       " 1.0,\n",
       " 16.0,\n",
       " 17.0,\n",
       " 2.0,\n",
       " 3.0,\n",
       " 18.0,\n",
       " 19.0,\n",
       " 4.0,\n",
       " 5.0,\n",
       " 20.0,\n",
       " 21.0,\n",
       " 6.0,\n",
       " 7.0,\n",
       " 22.0,\n",
       " 23.0,\n",
       " 8.0,\n",
       " 9.0,\n",
       " 24.0,\n",
       " 25.0,\n",
       " 10.0,\n",
       " 11.0,\n",
       " 26.0,\n",
       " 27.0,\n",
       " 12.0,\n",
       " 13.0,\n",
       " 28.0,\n",
       " 29.0,\n",
       " 14.0,\n",
       " 15.0,\n",
       " 30.0,\n",
       " 31.0,\n",
       " 32.0,\n",
       " 33.0,\n",
       " 48.0,\n",
       " 49.0,\n",
       " 34.0,\n",
       " 35.0,\n",
       " 50.0,\n",
       " 51.0,\n",
       " 36.0,\n",
       " 37.0,\n",
       " 52.0,\n",
       " 53.0,\n",
       " 38.0,\n",
       " 39.0,\n",
       " 54.0,\n",
       " 55.0,\n",
       " 40.0,\n",
       " 41.0,\n",
       " 56.0,\n",
       " 57.0,\n",
       " 42.0,\n",
       " 43.0,\n",
       " 58.0,\n",
       " 59.0,\n",
       " 44.0,\n",
       " 45.0,\n",
       " 60.0,\n",
       " 61.0,\n",
       " 46.0,\n",
       " 47.0,\n",
       " 62.0,\n",
       " 63.0]"
      ]
     },
     "execution_count": 26,
     "metadata": {},
     "output_type": "execute_result"
    }
   ],
   "source": [
    "B = morton(b)\n",
    "B"
   ]
  },
  {
   "cell_type": "code",
   "execution_count": 10,
   "metadata": {},
   "outputs": [],
   "source": [
    "def group (list1, n):\n",
    "    \"\"\"Function sorts an input array into a n groups\"\"\"\n",
    "    length = len(list1)\n",
    "    n1 = int(length/n)                   #no. of elements per block\n",
    "    j = 0\n",
    "    A = np.empty((n,n1))\n",
    "    if np.mod(length,n) == 0:\n",
    "        for i in range (length):\n",
    "            A[j,np.mod(i,n1)] = list1[i]\n",
    "            if np.mod(i+1,n1) == 0:\n",
    "                j += 1\n",
    "    if np.mod(length,n) != 0\n",
    "        n1 = \n",
    "    return A"
   ]
  },
  {
   "cell_type": "code",
   "execution_count": 11,
   "metadata": {},
   "outputs": [],
   "source": [
    "sorted_list = group (A,6)"
   ]
  },
  {
   "cell_type": "code",
   "execution_count": 12,
   "metadata": {},
   "outputs": [
    {
     "data": {
      "text/plain": [
       "array([[  0.,   1.,   6.,   7.,   2.,   3.],\n",
       "       [  8.,   9.,   4.,   5.,  10.,  11.],\n",
       "       [ 12.,  13.,  18.,  19.,  14.,  15.],\n",
       "       [ 20.,  21.,  16.,  17.,  22.,  23.],\n",
       "       [ 24.,  25.,  30.,  31.,  26.,  27.],\n",
       "       [ 32.,  33.,  28.,  29.,  34.,  35.]])"
      ]
     },
     "execution_count": 12,
     "metadata": {},
     "output_type": "execute_result"
    }
   ],
   "source": [
    "sorted_list"
   ]
  },
  {
   "cell_type": "code",
   "execution_count": 16,
   "metadata": {},
   "outputs": [
    {
     "data": {
      "text/plain": [
       "array([[  0.,   1.,   8.,   9.,   2.,   3.,  10.,  11.],\n",
       "       [  4.,   5.,  12.,  13.,   6.,   7.,  14.,  15.],\n",
       "       [ 16.,  17.,  24.,  25.,  18.,  19.,  26.,  27.],\n",
       "       [ 20.,  21.,  28.,  29.,  22.,  23.,  30.,  31.],\n",
       "       [ 32.,  33.,  40.,  41.,  34.,  35.,  42.,  43.],\n",
       "       [ 36.,  37.,  44.,  45.,  38.,  39.,  46.,  47.],\n",
       "       [ 48.,  49.,  56.,  57.,  50.,  51.,  58.,  59.],\n",
       "       [ 52.,  53.,  60.,  61.,  54.,  55.,  62.,  63.]])"
      ]
     },
     "execution_count": 16,
     "metadata": {},
     "output_type": "execute_result"
    }
   ],
   "source": [
    "sorted_listb"
   ]
  }
 ],
 "metadata": {
  "kernelspec": {
   "display_name": "Python 3",
   "language": "python",
   "name": "python3"
  },
  "language_info": {
   "codemirror_mode": {
    "name": "ipython",
    "version": 3
   },
   "file_extension": ".py",
   "mimetype": "text/x-python",
   "name": "python",
   "nbconvert_exporter": "python",
   "pygments_lexer": "ipython3",
   "version": "3.6.0"
  }
 },
 "nbformat": 4,
 "nbformat_minor": 2
}
